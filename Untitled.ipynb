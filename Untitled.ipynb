{
 "cells": [
  {
   "cell_type": "code",
   "execution_count": 1,
   "metadata": {
    "collapsed": true
   },
   "outputs": [],
   "source": [
    "import ads"
   ]
  },
  {
   "cell_type": "code",
   "execution_count": 11,
   "metadata": {},
   "outputs": [],
   "source": [
    "bibcodes = []\n",
    "with open('bib.bib', 'r') as fin:\n",
    "    lines = fin.readlines()\n",
    "    for line in lines:\n",
    "        if '@ARTICLE' in line:\n",
    "            bibcodes.append(line.split('@ARTICLE{')[-1].split(',')[0])"
   ]
  },
  {
   "cell_type": "code",
   "execution_count": 23,
   "metadata": {},
   "outputs": [],
   "source": [
    "articles = [list(ads.SearchQuery(bibcode=bibcode))[0] for bibcode in bibcodes]"
   ]
  },
  {
   "cell_type": "code",
   "execution_count": 27,
   "metadata": {},
   "outputs": [],
   "source": [
    "q = articles[5]"
   ]
  },
  {
   "cell_type": "code",
   "execution_count": 32,
   "metadata": {},
   "outputs": [
    {
     "name": "stdout",
     "output_type": "stream",
     "text": [
      "[u'Lensing of Fast Radio Bursts by Plasma Structures in Host Galaxies']\n",
      "[u'The NANOGrav Nine-year Data Set: Measurement and Analysis of Variations in Dispersion Measures']\n",
      "[u'Taming outliers in pulsar-timing data sets with hierarchical likelihoods and Hamiltonian sampling']\n",
      "[u'Modelling and mitigating refractive propagation effects in precision pulsar timing observations']\n",
      "[u'The NANOGrav Nine-year Data Set: Excess Noise in Millisecond Pulsar Arrival Times']\n",
      "[u'Supermassive black hole binary environments: Effects on the scaling laws and time to detection for the stochastic background']\n",
      "[u'The NANOGrav Nine-year Data Set: Mass and Geometric Measurements of Binary Millisecond Pulsars']\n",
      "[u'Time-domain and spectral properties of pulsars at 154 MHz']\n",
      "[u'Microarcsecond VLBI Pulsar Astrometry with PSR\\u03c0. I. Two Binary Millisecond Pulsars with White Dwarf Companions']\n",
      "[u'PSR J1024-0719: A Millisecond Pulsar in an Unusual Long-period Orbit']\n",
      "[u'Constraints on Black Hole/Host Galaxy Co-evolution and Binary Stalling Using Pulsar Timing Arrays']\n",
      "[u'Towards robust gravitational wave detection with pulsar timing arrays']\n",
      "[u'From spin noise to systematics: stochastic processes in the first International Pulsar Timing Array data release']\n",
      "[u'Transdimensional Bayesian approach to pulsar timing noise analysis']\n",
      "[u'Systematic and Stochastic Variations in Pulsar Dispersion Measures']\n",
      "[u'The NANOGrav Nine-year Data Set: Limits on the Isotropic Stochastic Gravitational Wave Background']\n",
      "[u'Are We There Yet? Time to Detection of Nanohertz Gravitational Waves Based on Pulsar-timing Array Limits']\n",
      "[u'The NANOGrav Nine-year Data Set: Noise Budget for Pulsar Arrival Times on Intraday Timescales']\n",
      "[u'Versatile directional searches for gravitational waves with Pulsar Timing Arrays']\n",
      "[u'The NANOGrav Nine-year Data Set: Astrometric Measurements of 37 Millisecond Pulsars']\n",
      "[u'Detecting Eccentric Supermassive Black Hole Binaries with Pulsar Timing Arrays: Resolvable Source Strategies']\n",
      "[u'Mapping gravitational-wave backgrounds of arbitrary polarisation using pulsar timing arrays']\n",
      "[u'The NANOGrav Nine-year Data Set: Observations, Arrival Time Measurements, and Analysis of 37 Millisecond Pulsars']\n",
      "[u'NANOGrav Constraints on Gravitational Wave Bursts with Memory']\n",
      "[u'When is a gravitational-wave signal stochastic?']\n",
      "[u'Constraining the solution to the last parsec problem with pulsar timing']\n",
      "26\n"
     ]
    }
   ],
   "source": [
    "ct = 0\n",
    "for article in articles:\n",
    "    if '1430284' in (article.ack or ''):\n",
    "        print article.title\n",
    "        ct += 1\n",
    "print ct"
   ]
  },
  {
   "cell_type": "code",
   "execution_count": null,
   "metadata": {
    "collapsed": true
   },
   "outputs": [],
   "source": []
  }
 ],
 "metadata": {
  "kernelspec": {
   "display_name": "Python 2",
   "language": "python",
   "name": "python2"
  },
  "language_info": {
   "codemirror_mode": {
    "name": "ipython",
    "version": 2
   },
   "file_extension": ".py",
   "mimetype": "text/x-python",
   "name": "python",
   "nbconvert_exporter": "python",
   "pygments_lexer": "ipython2",
   "version": "2.7.13"
  }
 },
 "nbformat": 4,
 "nbformat_minor": 2
}
